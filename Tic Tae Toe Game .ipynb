{
 "cells": [
  {
   "cell_type": "code",
   "execution_count": 1,
   "id": "45c50ae5",
   "metadata": {},
   "outputs": [],
   "source": [
    "#Step 1 : Displaying a board "
   ]
  },
  {
   "cell_type": "code",
   "execution_count": 2,
   "id": "301c22a9",
   "metadata": {},
   "outputs": [],
   "source": [
    "from IPython.display import clear_output\n",
    "\n",
    "def display_board(board):\n",
    "    clear_output()  # Remember, this only works in jupyter!\n",
    "    \n",
    "    print('   |   |')\n",
    "    print(' ' + board[1] + ' | ' + board[2] + ' | ' + board[3])\n",
    "    print('   |   |')\n",
    "    print('-----------')\n",
    "    print('   |   |')\n",
    "    print(' ' + board[4] + ' | ' + board[5] + ' | ' + board[6])\n",
    "    print('   |   |')\n",
    "    print('-----------')\n",
    "    print('   |   |')\n",
    "    print(' ' + board[7] + ' | ' + board[8] + ' | ' + board[9])\n",
    "    print('   |   |')\n",
    "    "
   ]
  },
  {
   "cell_type": "code",
   "execution_count": 3,
   "id": "eb41835f",
   "metadata": {},
   "outputs": [
    {
     "name": "stdout",
     "output_type": "stream",
     "text": [
      "   |   |\n",
      " X | O | X\n",
      "   |   |\n",
      "-----------\n",
      "   |   |\n",
      " O | X | O\n",
      "   |   |\n",
      "-----------\n",
      "   |   |\n",
      " X | O | X\n",
      "   |   |\n"
     ]
    }
   ],
   "source": [
    "test_board = ['#','X','O','X','O','X','O','X','O','X']\n",
    "display_board(test_board)"
   ]
  },
  {
   "cell_type": "code",
   "execution_count": 4,
   "id": "ca4343fc",
   "metadata": {},
   "outputs": [],
   "source": [
    "#Step 2: Taking user input and assigning their marker as 'X' or 'O':"
   ]
  },
  {
   "cell_type": "code",
   "execution_count": 5,
   "id": "d64d1fa6",
   "metadata": {},
   "outputs": [],
   "source": [
    "def player_input():\n",
    "    marker = ''\n",
    "    while marker !='X' and marker !='O':\n",
    "        marker = input(\"Player 1: Choose marker X or O: \").upper()\n",
    "    if marker =='X':\n",
    "        return ('X','O')\n",
    "    else:\n",
    "        return('O','X')"
   ]
  },
  {
   "cell_type": "code",
   "execution_count": 6,
   "id": "92fc2f16",
   "metadata": {},
   "outputs": [
    {
     "name": "stdout",
     "output_type": "stream",
     "text": [
      "Player 1: Choose marker X or O: x\n"
     ]
    },
    {
     "data": {
      "text/plain": [
       "('X', 'O')"
      ]
     },
     "execution_count": 6,
     "metadata": {},
     "output_type": "execute_result"
    }
   ],
   "source": [
    "player_input()"
   ]
  },
  {
   "cell_type": "code",
   "execution_count": 7,
   "id": "ea95d4a5",
   "metadata": {},
   "outputs": [
    {
     "name": "stdout",
     "output_type": "stream",
     "text": [
      "Player 1: Choose marker X or O: o\n"
     ]
    }
   ],
   "source": [
    "player1_marker , player2_marker = player_input()"
   ]
  },
  {
   "cell_type": "code",
   "execution_count": 8,
   "id": "0db9712f",
   "metadata": {},
   "outputs": [
    {
     "data": {
      "text/plain": [
       "'O'"
      ]
     },
     "execution_count": 8,
     "metadata": {},
     "output_type": "execute_result"
    }
   ],
   "source": [
    "player1_marker\n"
   ]
  },
  {
   "cell_type": "code",
   "execution_count": 9,
   "id": "a67d8889",
   "metadata": {},
   "outputs": [],
   "source": [
    "#Step 3 : function that takes in the board list, marker (X or O) and a desired position (1-9) and assign it to the board."
   ]
  },
  {
   "cell_type": "code",
   "execution_count": 10,
   "id": "8f3de60a",
   "metadata": {},
   "outputs": [],
   "source": [
    "def place_marker (board,marker,position):\n",
    "    board[position] = marker"
   ]
  },
  {
   "cell_type": "code",
   "execution_count": 11,
   "id": "1c1e3137",
   "metadata": {},
   "outputs": [
    {
     "name": "stdout",
     "output_type": "stream",
     "text": [
      "   |   |\n",
      " * | O | X\n",
      "   |   |\n",
      "-----------\n",
      "   |   |\n",
      " O | X | O\n",
      "   |   |\n",
      "-----------\n",
      "   |   |\n",
      " X | O | X\n",
      "   |   |\n"
     ]
    }
   ],
   "source": [
    "place_marker(test_board,'*',1)\n",
    "display_board(test_board)"
   ]
  },
  {
   "cell_type": "code",
   "execution_count": 12,
   "id": "afd2a660",
   "metadata": {},
   "outputs": [],
   "source": [
    "#step 4 : A function that takes in the board and a mark(X or O) and then checks to see if the mark has won or not ."
   ]
  },
  {
   "cell_type": "code",
   "execution_count": 13,
   "id": "5b60f452",
   "metadata": {},
   "outputs": [],
   "source": [
    "def win_check(board,mark):\n",
    "    return ((board[7] == mark and board[8] == mark and board[9] == mark) or # across the top\n",
    "    (board[4] == mark and board[5] == mark and board[6] == mark) or # across the middle\n",
    "    (board[1] == mark and board[2] == mark and board[3] == mark) or # across the bottom\n",
    "    (board[7] == mark and board[4] == mark and board[1] == mark) or # down the middle\n",
    "    (board[8] == mark and board[5] == mark and board[2] == mark) or # down the middle\n",
    "    (board[9] == mark and board[6] == mark and board[3] == mark) or # down the right side\n",
    "    (board[7] == mark and board[5] == mark and board[3] == mark) or # diagonal\n",
    "    (board[9] == mark and board[5] == mark and board[1] == mark)) # diagonal"
   ]
  },
  {
   "cell_type": "code",
   "execution_count": 14,
   "id": "784a4575",
   "metadata": {},
   "outputs": [
    {
     "data": {
      "text/plain": [
       "True"
      ]
     },
     "execution_count": 14,
     "metadata": {},
     "output_type": "execute_result"
    }
   ],
   "source": [
    "win_check(test_board,'X')"
   ]
  },
  {
   "cell_type": "code",
   "execution_count": 15,
   "id": "1c6bb020",
   "metadata": {},
   "outputs": [],
   "source": [
    "#Step 5: Function that will randomly check who will go first"
   ]
  },
  {
   "cell_type": "code",
   "execution_count": 16,
   "id": "ca8d49d4",
   "metadata": {},
   "outputs": [],
   "source": [
    "import random "
   ]
  },
  {
   "cell_type": "code",
   "execution_count": 17,
   "id": "1bd7d519",
   "metadata": {},
   "outputs": [],
   "source": [
    "def choose_first():\n",
    "    flip = random.randint(0,1)\n",
    "    if flip == 0:\n",
    "        return 'player1'\n",
    "    else:\n",
    "        return 'player2'"
   ]
  },
  {
   "cell_type": "code",
   "execution_count": 18,
   "id": "7abbfe90",
   "metadata": {},
   "outputs": [
    {
     "data": {
      "text/plain": [
       "'player1'"
      ]
     },
     "execution_count": 18,
     "metadata": {},
     "output_type": "execute_result"
    }
   ],
   "source": [
    "choose_first()"
   ]
  },
  {
   "cell_type": "code",
   "execution_count": 19,
   "id": "263f3c39",
   "metadata": {},
   "outputs": [],
   "source": [
    "#Step 6: FUnction that return a boolean imdicating whether a space on board is freely availbale or not."
   ]
  },
  {
   "cell_type": "code",
   "execution_count": 20,
   "id": "efca8e89",
   "metadata": {},
   "outputs": [],
   "source": [
    "def space_check(board,position):\n",
    "    return board[position] == ' '"
   ]
  },
  {
   "cell_type": "code",
   "execution_count": 21,
   "id": "1f770fea",
   "metadata": {},
   "outputs": [
    {
     "data": {
      "text/plain": [
       "False"
      ]
     },
     "execution_count": 21,
     "metadata": {},
     "output_type": "execute_result"
    }
   ],
   "source": [
    "space_check(test_board,5)"
   ]
  },
  {
   "cell_type": "code",
   "execution_count": 22,
   "id": "dfb3c0f2",
   "metadata": {},
   "outputs": [],
   "source": [
    "# Step 7 : Function that checks if board is full and return a boolean value . True if full , False Otherwise"
   ]
  },
  {
   "cell_type": "code",
   "execution_count": 23,
   "id": "02b0d410",
   "metadata": {},
   "outputs": [],
   "source": [
    "def fullboard_check(board):\n",
    "    for i in range(1,10):\n",
    "        if space_check(board, i):\n",
    "            return False\n",
    "    return True"
   ]
  },
  {
   "cell_type": "code",
   "execution_count": 24,
   "id": "002b1139",
   "metadata": {},
   "outputs": [
    {
     "data": {
      "text/plain": [
       "True"
      ]
     },
     "execution_count": 24,
     "metadata": {},
     "output_type": "execute_result"
    }
   ],
   "source": [
    "fullboard_check(test_board)"
   ]
  },
  {
   "cell_type": "code",
   "execution_count": 25,
   "id": "1decce40",
   "metadata": {},
   "outputs": [],
   "source": [
    "#Step 8: Function that asks for player's next move and then uses the step 6 to check whether the space is free or not . \n",
    "#If it is then return the position "
   ]
  },
  {
   "cell_type": "code",
   "execution_count": 26,
   "id": "0bde1337",
   "metadata": {},
   "outputs": [],
   "source": [
    "def player_choice(board):\n",
    "    position = 0\n",
    "    while position not in range(0,10) or not space_check(board,position):\n",
    "        position = int(input(\"Please choose a position : \"))\n",
    "        \n",
    "    return position\n",
    "    "
   ]
  },
  {
   "cell_type": "code",
   "execution_count": 27,
   "id": "2c733fbc",
   "metadata": {},
   "outputs": [],
   "source": [
    "#Step 9: Function that asks the player that they want to play again or not and retrun True if they want to play again."
   ]
  },
  {
   "cell_type": "code",
   "execution_count": 28,
   "id": "15821f29",
   "metadata": {},
   "outputs": [],
   "source": [
    "def replay():\n",
    "    choice = input('Do you want to play again?: ')\n",
    "    return choice == 'yes'"
   ]
  },
  {
   "cell_type": "code",
   "execution_count": 29,
   "id": "104cc010",
   "metadata": {},
   "outputs": [
    {
     "name": "stdout",
     "output_type": "stream",
     "text": [
      "Do you want to play again?: no\n"
     ]
    },
    {
     "data": {
      "text/plain": [
       "False"
      ]
     },
     "execution_count": 29,
     "metadata": {},
     "output_type": "execute_result"
    }
   ],
   "source": [
    "replay()"
   ]
  },
  {
   "cell_type": "code",
   "execution_count": 30,
   "id": "b3fa97c8",
   "metadata": {},
   "outputs": [],
   "source": [
    "#Step 10 : adding logic to all the functions "
   ]
  },
  {
   "cell_type": "code",
   "execution_count": 38,
   "id": "d4b3321d",
   "metadata": {},
   "outputs": [
    {
     "name": "stdout",
     "output_type": "stream",
     "text": [
      "   |   |\n",
      " O | O | X\n",
      "   |   |\n",
      "-----------\n",
      "   |   |\n",
      " X | X | O\n",
      "   |   |\n",
      "-----------\n",
      "   |   |\n",
      " O | X | O\n",
      "   |   |\n",
      "The game is a draw!\n",
      "Do you want to play again?: no\n"
     ]
    }
   ],
   "source": [
    "print('Welcome to Tic Tac Toe!')\n",
    "\n",
    "while True:\n",
    "    # Reset the board\n",
    "    the_board = [' '] * 10\n",
    "    player1_marker, player2_marker = player_input()\n",
    "    turn = choose_first()\n",
    "    print(turn + ' will go first.')\n",
    "    \n",
    "    play_game = input('Are you ready to play? Enter y or n. ').lower()\n",
    "    \n",
    "    if play_game == 'y':\n",
    "        game_on = True\n",
    "    else:\n",
    "        game_on = False\n",
    "\n",
    "    while game_on:\n",
    "        if turn == 'player 1':\n",
    "            # Player1's turn.\n",
    "            \n",
    "            display_board(the_board)\n",
    "            position = player_choice(the_board)\n",
    "            place_marker(the_board, player1_marker, position)\n",
    "\n",
    "            if win_check(the_board, player1_marker):\n",
    "                display_board(the_board)\n",
    "                print('Congratulations! You have won the game!')\n",
    "                game_on = False\n",
    "            else:\n",
    "                if fullboard_check(the_board):\n",
    "                    display_board(the_board)\n",
    "                    print('The game is a draw!')\n",
    "                    break\n",
    "                else:\n",
    "                    turn = 'player 2'\n",
    "\n",
    "        else:\n",
    "            # Player2's turn.\n",
    "            \n",
    "            display_board(the_board)\n",
    "            position = player_choice(the_board)\n",
    "            place_marker(the_board, player2_marker, position)\n",
    "\n",
    "            if win_check(the_board, player2_marker):\n",
    "                display_board(the_board)\n",
    "                print('Player 2 has won!')\n",
    "                game_on = False\n",
    "            else:\n",
    "                if fullboard_check(the_board):\n",
    "                    display_board(the_oard)\n",
    "                    print('The game is a draw!')\n",
    "                    break\n",
    "                else:\n",
    "                    turn = 'player 1'\n",
    "\n",
    "    if not replay():\n",
    "        break"
   ]
  },
  {
   "cell_type": "code",
   "execution_count": null,
   "id": "c9b24817",
   "metadata": {},
   "outputs": [],
   "source": []
  }
 ],
 "metadata": {
  "kernelspec": {
   "display_name": "Python 3 (ipykernel)",
   "language": "python",
   "name": "python3"
  },
  "language_info": {
   "codemirror_mode": {
    "name": "ipython",
    "version": 3
   },
   "file_extension": ".py",
   "mimetype": "text/x-python",
   "name": "python",
   "nbconvert_exporter": "python",
   "pygments_lexer": "ipython3",
   "version": "3.9.13"
  }
 },
 "nbformat": 4,
 "nbformat_minor": 5
}
